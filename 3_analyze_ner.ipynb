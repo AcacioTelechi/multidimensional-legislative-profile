{
 "cells": [
  {
   "cell_type": "code",
   "execution_count": 21,
   "metadata": {},
   "outputs": [],
   "source": [
    "import os\n",
    "import json\n",
    "import pandas as pd"
   ]
  },
  {
   "cell_type": "code",
   "execution_count": 22,
   "metadata": {},
   "outputs": [],
   "source": [
    "NER_FOLDER = os.getenv(\"NER_FOLDER\")\n",
    "\n",
    "with open(f\"../data/ner/NER.json\", 'r') as f:\n",
    "    data = json.load(f)"
   ]
  },
  {
   "cell_type": "code",
   "execution_count": 28,
   "metadata": {},
   "outputs": [],
   "source": [
    "final = []\n",
    "for d in data:\n",
    "    try:\n",
    "        id_prop = d['id_prop']\n",
    "    except:\n",
    "        continue\n",
    "    ner = d['ner']\n",
    "    for n in ner:\n",
    "        if n['label'] == 'LOC':\n",
    "            final.append({'id_prop': id_prop, 'loc': n['span']})\n",
    "\n",
    "df = pd.DataFrame(final)\n",
    "df_locals = pd.DataFrame(df['loc'].unique(), columns=['local'])\n",
    "\n",
    "df_locals_classified = pd.read_csv('./output/df_locals_classified.csv', encoding='latin1', delimiter=';')\n",
    "df_locals_classified['id'] = df_locals_classified['id'].astype(int)\n",
    "df_local = df_locals.merge(df_locals_classified[['id', 'classification']], left_index=True, right_on='id')\n",
    "df = df.merge(df_local[['local', 'classification']], left_on='loc', right_on='local')"
   ]
  },
  {
   "cell_type": "code",
   "execution_count": 35,
   "metadata": {},
   "outputs": [],
   "source": [
    "def classify(x):\n",
    "    if x == 'regional':\n",
    "        return 0\n",
    "    if x == 'national':\n",
    "        return 1\n",
    "    return 0\n",
    "    \n",
    "\n",
    "df['clf'] = df['classification'].apply(classify)"
   ]
  },
  {
   "cell_type": "code",
   "execution_count": 36,
   "metadata": {},
   "outputs": [
    {
     "data": {
      "text/html": [
       "<div>\n",
       "<style scoped>\n",
       "    .dataframe tbody tr th:only-of-type {\n",
       "        vertical-align: middle;\n",
       "    }\n",
       "\n",
       "    .dataframe tbody tr th {\n",
       "        vertical-align: top;\n",
       "    }\n",
       "\n",
       "    .dataframe thead th {\n",
       "        text-align: right;\n",
       "    }\n",
       "</style>\n",
       "<table border=\"1\" class=\"dataframe\">\n",
       "  <thead>\n",
       "    <tr style=\"text-align: right;\">\n",
       "      <th></th>\n",
       "      <th>id_prop</th>\n",
       "      <th>loc</th>\n",
       "      <th>local</th>\n",
       "      <th>classification</th>\n",
       "      <th>clf</th>\n",
       "    </tr>\n",
       "  </thead>\n",
       "  <tbody>\n",
       "    <tr>\n",
       "      <th>0</th>\n",
       "      <td>1006382</td>\n",
       "      <td>Camocim de São Felix</td>\n",
       "      <td>Camocim de São Felix</td>\n",
       "      <td>regional</td>\n",
       "      <td>0</td>\n",
       "    </tr>\n",
       "    <tr>\n",
       "      <th>1</th>\n",
       "      <td>1006382</td>\n",
       "      <td>Estado de Pernambuco</td>\n",
       "      <td>Estado de Pernambuco</td>\n",
       "      <td>local</td>\n",
       "      <td>0</td>\n",
       "    </tr>\n",
       "    <tr>\n",
       "      <th>2</th>\n",
       "      <td>1006383</td>\n",
       "      <td>Lontras</td>\n",
       "      <td>Lontras</td>\n",
       "      <td>local</td>\n",
       "      <td>0</td>\n",
       "    </tr>\n",
       "    <tr>\n",
       "      <th>3</th>\n",
       "      <td>1006383</td>\n",
       "      <td>Santa Catarina</td>\n",
       "      <td>Santa Catarina</td>\n",
       "      <td>local</td>\n",
       "      <td>0</td>\n",
       "    </tr>\n",
       "    <tr>\n",
       "      <th>4</th>\n",
       "      <td>1006385</td>\n",
       "      <td>Parque Nacional de São Joaquim</td>\n",
       "      <td>Parque Nacional de São Joaquim</td>\n",
       "      <td>regional</td>\n",
       "      <td>0</td>\n",
       "    </tr>\n",
       "    <tr>\n",
       "      <th>...</th>\n",
       "      <td>...</td>\n",
       "      <td>...</td>\n",
       "      <td>...</td>\n",
       "      <td>...</td>\n",
       "      <td>...</td>\n",
       "    </tr>\n",
       "    <tr>\n",
       "      <th>105753</th>\n",
       "      <td>996998</td>\n",
       "      <td>Rio de Janeiro</td>\n",
       "      <td>Rio de Janeiro</td>\n",
       "      <td>national</td>\n",
       "      <td>1</td>\n",
       "    </tr>\n",
       "    <tr>\n",
       "      <th>105754</th>\n",
       "      <td>997031</td>\n",
       "      <td>Brasil</td>\n",
       "      <td>Brasil</td>\n",
       "      <td>local</td>\n",
       "      <td>0</td>\n",
       "    </tr>\n",
       "    <tr>\n",
       "      <th>105755</th>\n",
       "      <td>997032</td>\n",
       "      <td>Rio de janeiro</td>\n",
       "      <td>Rio de janeiro</td>\n",
       "      <td>local</td>\n",
       "      <td>0</td>\n",
       "    </tr>\n",
       "    <tr>\n",
       "      <th>105756</th>\n",
       "      <td>997036</td>\n",
       "      <td>Acre</td>\n",
       "      <td>Acre</td>\n",
       "      <td>unknown</td>\n",
       "      <td>0</td>\n",
       "    </tr>\n",
       "    <tr>\n",
       "      <th>105757</th>\n",
       "      <td>997462</td>\n",
       "      <td>Brasil</td>\n",
       "      <td>Brasil</td>\n",
       "      <td>local</td>\n",
       "      <td>0</td>\n",
       "    </tr>\n",
       "  </tbody>\n",
       "</table>\n",
       "<p>105758 rows × 5 columns</p>\n",
       "</div>"
      ],
      "text/plain": [
       "        id_prop                             loc  \\\n",
       "0       1006382            Camocim de São Felix   \n",
       "1       1006382            Estado de Pernambuco   \n",
       "2       1006383                         Lontras   \n",
       "3       1006383                  Santa Catarina   \n",
       "4       1006385  Parque Nacional de São Joaquim   \n",
       "...         ...                             ...   \n",
       "105753   996998                  Rio de Janeiro   \n",
       "105754   997031                          Brasil   \n",
       "105755   997032                  Rio de janeiro   \n",
       "105756   997036                            Acre   \n",
       "105757   997462                          Brasil   \n",
       "\n",
       "                                 local classification  clf  \n",
       "0                 Camocim de São Felix       regional    0  \n",
       "1                 Estado de Pernambuco          local    0  \n",
       "2                              Lontras          local    0  \n",
       "3                       Santa Catarina          local    0  \n",
       "4       Parque Nacional de São Joaquim       regional    0  \n",
       "...                                ...            ...  ...  \n",
       "105753                  Rio de Janeiro       national    1  \n",
       "105754                          Brasil          local    0  \n",
       "105755                  Rio de janeiro          local    0  \n",
       "105756                            Acre        unknown    0  \n",
       "105757                          Brasil          local    0  \n",
       "\n",
       "[105758 rows x 5 columns]"
      ]
     },
     "execution_count": 36,
     "metadata": {},
     "output_type": "execute_result"
    }
   ],
   "source": [
    "df"
   ]
  },
  {
   "cell_type": "code",
   "execution_count": 37,
   "metadata": {},
   "outputs": [
    {
     "data": {
      "text/plain": [
       "<Axes: ylabel='Frequency'>"
      ]
     },
     "execution_count": 37,
     "metadata": {},
     "output_type": "execute_result"
    },
    {
     "data": {
      "image/png": "[encoded data removed]",
      "text/plain": [
       "<Figure size 640x480 with 1 Axes>"
      ]
     },
     "metadata": {},
     "output_type": "display_data"
    }
   ],
   "source": [
    "df_classification = df[['id_prop', 'clf']].groupby(['id_prop']).max()\n",
    "df_classification.plot(kind='hist')"
   ]
  },
  {
   "cell_type": "code",
   "execution_count": 38,
   "metadata": {},
   "outputs": [],
   "source": [
    "df_classification.to_csv('./output/df_locals_classification_final.csv')"
   ]
  }
 ],
 "metadata": {
  "kernelspec": {
   "display_name": ".venv",
   "language": "python",
   "name": "python3"
  },
  "language_info": {
   "codemirror_mode": {
    "name": "ipython",
    "version": 3
   },
   "file_extension": ".py",
   "mimetype": "text/x-python",
   "name": "python",
   "nbconvert_exporter": "python",
   "pygments_lexer": "ipython3",
   "version": "3.12.7"
  }
 },
 "nbformat": 4,
 "nbformat_minor": 2
}
